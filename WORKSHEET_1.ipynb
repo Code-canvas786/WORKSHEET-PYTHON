{
  "nbformat": 4,
  "nbformat_minor": 0,
  "metadata": {
    "colab": {
      "provenance": []
    },
    "kernelspec": {
      "name": "python3",
      "display_name": "Python 3"
    },
    "language_info": {
      "name": "python"
    }
  },
  "cells": [
    {
      "cell_type": "code",
      "source": [
        "print(\"Twinkle,Twinkle,little star.\\n How I wonder what you are!\\n Up above the world so high,\\n Like a diamond in the sky.\\nTwinkle,Twinkle,little star.\\n How I wonder what you are!\")"
      ],
      "metadata": {
        "colab": {
          "base_uri": "https://localhost:8080/"
        },
        "collapsed": true,
        "id": "uxfAk7-N03Sq",
        "outputId": "41be1a8a-79c7-422a-f287-0e7f83902720"
      },
      "execution_count": 1,
      "outputs": [
        {
          "output_type": "stream",
          "name": "stdout",
          "text": [
            "Twinkle,Twinkle,little star.\n",
            " How I wonder what you are!\n",
            " Up above the world so high,\n",
            " Like a diamond in the sky.\n",
            "Twinkle,Twinkle,little star.\n",
            " How I wonder what you are!\n"
          ]
        }
      ]
    },
    {
      "cell_type": "code",
      "execution_count": 2,
      "metadata": {
        "colab": {
          "base_uri": "https://localhost:8080/"
        },
        "collapsed": true,
        "id": "ZlXkOJ2P0yEU",
        "outputId": "ca48f83d-8afc-45a1-dd0f-f3ccc640a27f"
      },
      "outputs": [
        {
          "output_type": "stream",
          "name": "stdout",
          "text": [
            "Enter the first name:Yaismeen \n",
            "Enter the last name: Khan\n",
            "Khan Yaismeen \n"
          ]
        }
      ],
      "source": [
        "first_name = input(\"Enter the first name:\")\n",
        "last_name = input(\"Enter the last name: \")\n",
        "print(last_name,first_name)"
      ]
    },
    {
      "cell_type": "code",
      "source": [
        "radius=float(input(\"Enter the radius of the circle:\"))\n",
        "pi=3.14\n",
        "area=pi*radius*radius\n",
        "print(\"The area of the circle is:\",area)\n"
      ],
      "metadata": {
        "colab": {
          "base_uri": "https://localhost:8080/"
        },
        "id": "K2BsgMqX2m0h",
        "outputId": "7dc7819f-cf23-48ad-99e6-54928a2d59da"
      },
      "execution_count": 3,
      "outputs": [
        {
          "output_type": "stream",
          "name": "stdout",
          "text": [
            "Enter the radius of the circle:5\n",
            "The area of the circle is: 78.5\n"
          ]
        }
      ]
    },
    {
      "cell_type": "code",
      "source": [
        "color_list=[\"red\",\"green\",\"white\",\"black\"]\n",
        "print(color_list[0])\n",
        "print(color_list[3])"
      ],
      "metadata": {
        "colab": {
          "base_uri": "https://localhost:8080/"
        },
        "id": "349Zrmsv3jnd",
        "outputId": "220f5292-a9e4-476c-9a06-fbb09899c856"
      },
      "execution_count": 4,
      "outputs": [
        {
          "output_type": "stream",
          "name": "stdout",
          "text": [
            "red\n",
            "black\n"
          ]
        }
      ]
    },
    {
      "cell_type": "code",
      "source": [
        "n = int(input(\"Enter an integer:\"))\n",
        "nn = int(f\"{n}{n}\")\n",
        "nnn = int(f\"{n}{n}{n}\")\n",
        "result = n + nn + nnn\n",
        "print(\"The result is:\",result)\n"
      ],
      "metadata": {
        "colab": {
          "base_uri": "https://localhost:8080/"
        },
        "id": "kB73TU0K3_k3",
        "outputId": "628d8f07-e28a-49cb-f8d3-d06ed01db605"
      },
      "execution_count": 7,
      "outputs": [
        {
          "output_type": "stream",
          "name": "stdout",
          "text": [
            "Enter an integer:5\n",
            "The result is: 615\n"
          ]
        }
      ]
    },
    {
      "cell_type": "code",
      "source": [
        "numbers = input(\"Enter a sequence of comma-seperated numbers :\")\n",
        "numbers_list = numbers.split(\",\")\n",
        "numbers_tuple = tuple(numbers_list)\n",
        "print(\"List:\", numbers_list)\n",
        "print(\"Tuple:\", numbers_tuple)\n"
      ],
      "metadata": {
        "colab": {
          "base_uri": "https://localhost:8080/"
        },
        "id": "-z9e-HRi5Jpr",
        "outputId": "ca059198-4771-47ba-9507-be5093dad21c"
      },
      "execution_count": 8,
      "outputs": [
        {
          "output_type": "stream",
          "name": "stdout",
          "text": [
            "Enter a sequence of comma-seperated numbers :3,5,7,23\n",
            "List: ['3', '5', '7', '23']\n",
            "Tuple: ('3', '5', '7', '23')\n"
          ]
        }
      ]
    },
    {
      "cell_type": "code",
      "source": [
        "celsius = float(input(\"Enter the temperature in celsius: \"))\n",
        "fahrenheit = 1.8*celsius + 32\n",
        "print(fahrenheit)"
      ],
      "metadata": {
        "colab": {
          "base_uri": "https://localhost:8080/"
        },
        "id": "aRl_WA0v6kRx",
        "outputId": "7c167f8e-6add-4787-d767-cf469f7d8e3a"
      },
      "execution_count": 9,
      "outputs": [
        {
          "output_type": "stream",
          "name": "stdout",
          "text": [
            "Enter the temperature in celsius: 36\n",
            "96.8\n"
          ]
        }
      ]
    },
    {
      "cell_type": "code",
      "source": [
        "num_1=int(input(\"Enter first number :\"))\n",
        "num_2=int(input(\"Enter second number :\"))\n",
        "print(num_2,num_1)\n",
        "a=num_2+1+num_1+1\n",
        "print(a)\n",
        "\n"
      ],
      "metadata": {
        "colab": {
          "base_uri": "https://localhost:8080/"
        },
        "id": "e6QiZD8460eL",
        "outputId": "42e7bf95-f386-4df2-fc89-612014f8e4a2"
      },
      "execution_count": 10,
      "outputs": [
        {
          "output_type": "stream",
          "name": "stdout",
          "text": [
            "Enter first number :5\n",
            "Enter second number :4\n",
            "4 5\n",
            "11\n"
          ]
        }
      ]
    },
    {
      "cell_type": "code",
      "source": [
        "num = int(input(\"Enter the number: \"))\n",
        "if (num%2 == 0) :\n",
        " print(\"It is an even number.\")\n",
        "else :\n",
        " print(\"It is an odd number.\")"
      ],
      "metadata": {
        "colab": {
          "base_uri": "https://localhost:8080/"
        },
        "id": "jdusSydM7sGE",
        "outputId": "44c6a97e-2c37-479d-eb99-8b3be7f08887"
      },
      "execution_count": 11,
      "outputs": [
        {
          "output_type": "stream",
          "name": "stdout",
          "text": [
            "Enter the number: 5\n",
            "It is an odd number.\n"
          ]
        }
      ]
    },
    {
      "cell_type": "code",
      "source": [
        "year = int(input(\"Enter the year: \"))\n",
        "if (year%4 == 0) :\n",
        " print(\"It is a leap year.\")\n",
        "else :\n",
        "  print(\"It is not an leap year.\")"
      ],
      "metadata": {
        "colab": {
          "base_uri": "https://localhost:8080/"
        },
        "id": "1__UfBPU73DC",
        "outputId": "75f2040d-43e9-49b8-b154-7089518cb740"
      },
      "execution_count": 12,
      "outputs": [
        {
          "output_type": "stream",
          "name": "stdout",
          "text": [
            "Enter the year: 2016\n",
            "It is a leap year.\n"
          ]
        }
      ]
    },
    {
      "cell_type": "code",
      "source": [
        "x1,y1 = int(input(\"x1:\")), int(input(\"y1:\"))\n",
        "x2,y2 = int(input(\"x2:\")), int(input(\"y2:\"))\n",
        "distance = ((x2 - x1)**2 + (y2 - y1)**2)**0.5\n",
        "print(\"The distance is:\",distance)\n"
      ],
      "metadata": {
        "colab": {
          "base_uri": "https://localhost:8080/"
        },
        "id": "JbsdxYFX8CGF",
        "outputId": "d3db7cd6-2e29-4d5c-fdc8-2ae9804b118b"
      },
      "execution_count": 17,
      "outputs": [
        {
          "output_type": "stream",
          "name": "stdout",
          "text": [
            "x1:5\n",
            "y1:4\n",
            "x2:8\n",
            "y2:7\n",
            "The distance is: 4.242640687119285\n"
          ]
        }
      ]
    },
    {
      "cell_type": "code",
      "source": [
        "a1, a2, a3 = float(input(\"a1:\")),float(input(\"a2:\")),float(input(\"a3:\"))\n",
        "sum = a1 + a2 + a3\n",
        "if (sum == 180) :\n",
        "  print(\"This is a triangle.\")\n",
        "else :\n",
        "   print(\"This is not a triangle.\")\n",
        ""
      ],
      "metadata": {
        "colab": {
          "base_uri": "https://localhost:8080/"
        },
        "id": "QvA69czF9d7O",
        "outputId": "ae2c9c13-efdf-472d-8577-a0b17ad53f7e"
      },
      "execution_count": 20,
      "outputs": [
        {
          "output_type": "stream",
          "name": "stdout",
          "text": [
            "a1:50\n",
            "a2:60\n",
            "a3:90\n",
            "This is not a triangle.\n"
          ]
        }
      ]
    },
    {
      "cell_type": "code",
      "source": [
        "principle= int(input(\"principle: \"))\n",
        "rate=int(input(\"rate: \"))\n",
        "time= int(input(\"time: \"))\n",
        "compound_interest= principle*((1+rate)**time)\n",
        "print(\"The compound interest is:\",compound_interest)"
      ],
      "metadata": {
        "colab": {
          "base_uri": "https://localhost:8080/"
        },
        "id": "S99OIV7p9xL8",
        "outputId": "de077e76-9d3b-4a54-f245-7b99dda1d938"
      },
      "execution_count": 24,
      "outputs": [
        {
          "output_type": "stream",
          "name": "stdout",
          "text": [
            "principle: 500\n",
            "rate: 2\n",
            "time: 1\n",
            "The compound interest is: 1500\n"
          ]
        }
      ]
    },
    {
      "cell_type": "code",
      "source": [
        "N = int(input(\"Enter the number : \"))\n",
        "c = 0\n",
        "for i in range (2,N):\n",
        " if(N % i == 0) :\n",
        "  c=c+1\n",
        "if c > 0:\n",
        " print(\"The number is not Prime\")\n",
        "else:\n",
        " print(\"The number is Prime\")"
      ],
      "metadata": {
        "colab": {
          "base_uri": "https://localhost:8080/"
        },
        "id": "mEaRHP5o-ivt",
        "outputId": "e0558427-97bc-421f-b46b-99bfa0e9264a"
      },
      "execution_count": 26,
      "outputs": [
        {
          "output_type": "stream",
          "name": "stdout",
          "text": [
            "Enter the number : 5\n",
            "The number is Prime\n"
          ]
        }
      ]
    },
    {
      "cell_type": "code",
      "source": [
        "n = int(input(\"Enter the number: \"))\n",
        "sum = 0\n",
        "for i in range(1,n+1) :\n",
        " sum = sum + i**2\n",
        " print(sum)"
      ],
      "metadata": {
        "colab": {
          "base_uri": "https://localhost:8080/"
        },
        "id": "RD4l_2Qr_Vbf",
        "outputId": "897dc330-1b0b-4ee0-ff0b-91379a7b0f27"
      },
      "execution_count": 27,
      "outputs": [
        {
          "output_type": "stream",
          "name": "stdout",
          "text": [
            "Enter the number: 25\n",
            "1\n",
            "5\n",
            "14\n",
            "30\n",
            "55\n",
            "91\n",
            "140\n",
            "204\n",
            "285\n",
            "385\n",
            "506\n",
            "650\n",
            "819\n",
            "1015\n",
            "1240\n",
            "1496\n",
            "1785\n",
            "2109\n",
            "2470\n",
            "2870\n",
            "3311\n",
            "3795\n",
            "4324\n",
            "4900\n",
            "5525\n"
          ]
        }
      ]
    }
  ]
}