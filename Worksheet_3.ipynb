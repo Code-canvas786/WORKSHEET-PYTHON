{
  "nbformat": 4,
  "nbformat_minor": 0,
  "metadata": {
    "colab": {
      "provenance": []
    },
    "kernelspec": {
      "name": "python3",
      "display_name": "Python 3"
    },
    "language_info": {
      "name": "python"
    }
  },
  "cells": [
    {
      "cell_type": "code",
      "execution_count": null,
      "metadata": {
        "colab": {
          "base_uri": "https://localhost:8080/"
        },
        "id": "oKDj0oajMp8L",
        "outputId": "36dc1888-301d-4e03-ad4c-2b24632aa063"
      },
      "outputs": [
        {
          "output_type": "stream",
          "name": "stdout",
          "text": [
            "-10\n"
          ]
        }
      ],
      "source": [
        "def difference(n):\n",
        "  if n<=17:\n",
        "    return 17-n\n",
        "  else:\n",
        "   return (17-n)*2\n",
        "print(difference(22))"
      ]
    },
    {
      "cell_type": "code",
      "source": [
        "def range(n):\n",
        "  return 100<=n<=1000 or n<=2000\n",
        "output1=range(150)\n",
        "print(\"The number lies within the series:\",output1)\n",
        "output2=range(2100)\n",
        "print(\"The number does not lies within the series:\",output2)"
      ],
      "metadata": {
        "colab": {
          "base_uri": "https://localhost:8080/"
        },
        "id": "d_nfwe8FOAVb",
        "outputId": "f96a17ed-8f57-4020-83b5-12971853c44a"
      },
      "execution_count": null,
      "outputs": [
        {
          "output_type": "stream",
          "name": "stdout",
          "text": [
            "The number lies within the series: True\n",
            "The number does not lies within the series: False\n"
          ]
        }
      ]
    },
    {
      "cell_type": "code",
      "source": [
        "n=input(\"Enter a string:\")\n",
        "print(\"The reverse string is :\",n[::-1])"
      ],
      "metadata": {
        "colab": {
          "base_uri": "https://localhost:8080/"
        },
        "id": "jMtPHDH1O0xc",
        "outputId": "16273181-6a14-432b-cef4-27e9f3281420"
      },
      "execution_count": null,
      "outputs": [
        {
          "output_type": "stream",
          "name": "stdout",
          "text": [
            "Enter a string:Yashi\n",
            "The reverse string is : ihsaY\n"
          ]
        }
      ]
    },
    {
      "cell_type": "code",
      "source": [
        "n=input(\"Enter a string:\")\n",
        "upper_count=sum(1 for char in n if char.isupper())\n",
        "lower_count=sum(1 for char in n if char.islower())\n",
        "print(\"Upper case letters:\",upper_count)\n",
        "print(\"Lower case letters:\",lower_count)"
      ],
      "metadata": {
        "colab": {
          "base_uri": "https://localhost:8080/"
        },
        "id": "gvtCUiZPPJCk",
        "outputId": "f9dafc25-4574-42ce-8dee-3d50a805df3a"
      },
      "execution_count": null,
      "outputs": [
        {
          "output_type": "stream",
          "name": "stdout",
          "text": [
            "Enter a string:HArdWork\n",
            "Upper case letters: 3\n",
            "Lower case letters: 5\n"
          ]
        }
      ]
    },
    {
      "cell_type": "code",
      "source": [
        "def unique_list(m):\n",
        "    x = []\n",
        "    for i in m:\n",
        "        if i not in x:\n",
        "            x.append(i)\n",
        "    return x\n",
        "\n",
        "print(unique_list([1, 1, 2, 2, 3, 4, 5, 5]))\n"
      ],
      "metadata": {
        "colab": {
          "base_uri": "https://localhost:8080/"
        },
        "id": "kdW2BILIRroP",
        "outputId": "bcbc245d-95c6-4290-8693-b00d894fc378"
      },
      "execution_count": null,
      "outputs": [
        {
          "output_type": "stream",
          "name": "stdout",
          "text": [
            "[1, 2, 3, 4, 5]\n"
          ]
        }
      ]
    },
    {
      "cell_type": "code",
      "source": [
        "list=[1,2,3,4,5,6,7,8,9]\n",
        "even_numbers=[num for num in list if num%2==0]\n",
        "print(\"The even numbers are:\",even_numbers)"
      ],
      "metadata": {
        "colab": {
          "base_uri": "https://localhost:8080/"
        },
        "id": "_XfNNpWSfoUf",
        "outputId": "da7ad654-01ae-4992-df16-aff9cd5d47e4"
      },
      "execution_count": null,
      "outputs": [
        {
          "output_type": "stream",
          "name": "stdout",
          "text": [
            "The even numbers are: [2, 4, 6, 8]\n"
          ]
        }
      ]
    },
    {
      "cell_type": "code",
      "source": [
        "def student(name,age,grade):\n",
        "   pass\n",
        "arg_names=student.__code__.co_varnames[:student.__code__.co_argcount]\n",
        "print(\"The name of arguments:\",arg_names)"
      ],
      "metadata": {
        "colab": {
          "base_uri": "https://localhost:8080/"
        },
        "id": "miG1QP5cgHob",
        "outputId": "7a5cdfe4-a6e9-405b-f013-4764c599c7cb"
      },
      "execution_count": null,
      "outputs": [
        {
          "output_type": "stream",
          "name": "stdout",
          "text": [
            "The name of arguments: ('name', 'age', 'grade')\n"
          ]
        }
      ]
    },
    {
      "cell_type": "code",
      "source": [
        "class Student:\n",
        "  def __init__(write,student_id,student_name,student_class):\n",
        "    write.student_id=student_id\n",
        "    write.student_name=student_name\n",
        "    write.student_class=student_class\n",
        "  def display_attributes(write):\n",
        "    print(f\"Student id:{write.student_id}\")\n",
        "    print(f\"Student name:{write.student_name}\")\n",
        "    print(f\"Student class:{write.student_class}\")\n",
        "\n",
        "student=Student(1,\"Arjun\",\"XII Grade\")\n",
        "student.display_attributes()\n",
        "\n",
        "\n",
        "\n",
        "\n",
        ""
      ],
      "metadata": {
        "colab": {
          "base_uri": "https://localhost:8080/"
        },
        "id": "Wnf9AmeLlI4d",
        "outputId": "c25f0e45-d638-49e0-8072-bd5213781046"
      },
      "execution_count": 4,
      "outputs": [
        {
          "output_type": "stream",
          "name": "stdout",
          "text": [
            "Student id:1\n",
            "Student name:Arjun\n",
            "Student class:XII Grade\n"
          ]
        }
      ]
    },
    {
      "cell_type": "code",
      "source": [
        "class Student:\n",
        "  def __init__(write,student_id,student_name,student_class):\n",
        "    write.student_id=student_id\n",
        "    write.student_name=student_name\n",
        "    write.student_class=student_class\n",
        "\n",
        "student1=Student(1,\"Arjun\",\"XII Grade\")\n",
        "student2=Student(2,\"Kabeer\",\"X Grade\")\n",
        "\n",
        "print(f\"Student1 - ID: {student1.student_id}, Name: {student1.student_name}, Class: {student1.student_class}\")\n",
        "print(f\"Student2 - ID: {student2.student_id}, Name: {student2.student_name}, Class: {student2.student_class}\")\n"
      ],
      "metadata": {
        "colab": {
          "base_uri": "https://localhost:8080/"
        },
        "id": "ZBJPpfQhniVD",
        "outputId": "1570e2ad-3c6a-4b41-873b-6512ee1c2c1a"
      },
      "execution_count": 6,
      "outputs": [
        {
          "output_type": "stream",
          "name": "stdout",
          "text": [
            "Student1 - ID: 1, Name: Arjun, Class: XII Grade\n",
            "Student2 - ID: 2, Name: Kabeer, Class: X Grade\n"
          ]
        }
      ]
    },
    {
      "cell_type": "code",
      "source": [
        "import math\n",
        "\n",
        "class Circle:\n",
        "  def __init__(write,radius):\n",
        "    write.radius=radius\n",
        "  def area(write):\n",
        "    return math.pi*(write.radius**2)\n",
        "  def perimeter(write):\n",
        "    return 2*math.pi*write.radius\n",
        "\n",
        "circle1=Circle(6)\n",
        "print(f\"The Area is:{circle1.area()}\")\n",
        "print(f\"The Perimeter is:{circle1.perimeter()}\")\n",
        ""
      ],
      "metadata": {
        "colab": {
          "base_uri": "https://localhost:8080/"
        },
        "id": "xi4OJEpeo0SS",
        "outputId": "b4d90a4c-4c47-40a4-ca0b-03e8819ba040"
      },
      "execution_count": 10,
      "outputs": [
        {
          "output_type": "stream",
          "name": "stdout",
          "text": [
            "The Area is:113.09733552923255\n",
            "The Perimeter is:37.69911184307752\n"
          ]
        }
      ]
    },
    {
      "cell_type": "code",
      "source": [
        "class StringChange:\n",
        "  def __init__(write):\n",
        "    write.input_string=\"\"\n",
        "  def get_string(write):\n",
        "    write.input_string=input(\"Enter a string:\")\n",
        "  def print_string(write):\n",
        "    print(write.input_string.upper())\n",
        "str_change=StringChange()\n",
        "str_change.get_string()\n",
        "str_change.print_string()"
      ],
      "metadata": {
        "colab": {
          "base_uri": "https://localhost:8080/"
        },
        "id": "Ff4Bt49NqaF3",
        "outputId": "bee74e9b-05f2-4582-e86c-b100644eebc0"
      },
      "execution_count": 12,
      "outputs": [
        {
          "output_type": "stream",
          "name": "stdout",
          "text": [
            "Enter a string:Hardwork\n",
            "HARDWORK\n"
          ]
        }
      ]
    }
  ]
}